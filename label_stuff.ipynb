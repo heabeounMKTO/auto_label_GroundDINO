{
 "cells": [
  {
   "cell_type": "code",
   "execution_count": 1,
   "id": "ce61ab4b-1704-44c0-a2de-8820e9c3697a",
   "metadata": {},
   "outputs": [
    {
     "name": "stderr",
     "output_type": "stream",
     "text": [
      "/home/hbdesk/auto_label_GroundDINO/venv/lib/python3.12/site-packages/timm/models/layers/__init__.py:48: FutureWarning: Importing from timm.models.layers is deprecated, please import via timm.layers\n",
      "  warnings.warn(f\"Importing from {__name__} is deprecated, please import via timm.layers\", FutureWarning)\n",
      "/home/hbdesk/auto_label_GroundDINO/groundingdino/models/GroundingDINO/ms_deform_attn.py:31: UserWarning: Failed to load custom C++ ops. Running on CPU mode Only!\n",
      "  warnings.warn(\"Failed to load custom C++ ops. Running on CPU mode Only!\")\n"
     ]
    }
   ],
   "source": [
    "from annotation import Label\n",
    "from dino_finder import DinoFinder\n",
    "import os\n",
    "import cv2\n",
    "from groundingdino.util.inference import load_model, load_image, predict, annotate\n",
    "import json\n",
    "from tqdm import tqdm\n",
    "import uuid"
   ]
  },
  {
   "cell_type": "code",
   "execution_count": 2,
   "id": "7afd45cf-09b5-4bbf-acda-cfc22b5af55c",
   "metadata": {
    "scrolled": true
   },
   "outputs": [],
   "source": [
    "CONFIG_PATH = \"./groundingdino/config/GroundingDINO_SwinT_OGC.py\"\n",
    "WEIGHTS_PATH = os.path.join(\"weights\", \"groundingdino_swint_ogc.pth\")\n",
    "FISH_FOLDER=\"/media/hbdesk/UNTITLED/fish_pics_org\""
   ]
  },
  {
   "cell_type": "code",
   "execution_count": 3,
   "id": "e64ea5c1-80a4-45b6-ba27-9fed13a135f7",
   "metadata": {},
   "outputs": [],
   "source": [
    "# renames the file with uuid.\n",
    "\n",
    "\n",
    "# for folder in os.listdir(FISH_FOLDER):\n",
    "#     fish_folder_ = os.path.join(FISH_FOLDER, folder)\n",
    "#     for fish in os.listdir(fish_folder_):\n",
    "#         fish_ext = os.path.splitext(fish)[1]\n",
    "#         fish_pic_uuid = f\"{uuid.uuid4().hex}{fish_ext}\"\n",
    "#         o_fpath = os.path.join(fish_folder_, fish)\n",
    "#         rname_fpath = os.path.join(f\"{fish_folder_}\", fish_pic_uuid)\n",
    "#         os.rename(o_fpath, rname_fpath)"
   ]
  },
  {
   "cell_type": "code",
   "execution_count": 6,
   "id": "f677e25a-cbc4-4855-8fb7-fda8c1ef7eda",
   "metadata": {},
   "outputs": [],
   "source": [
    "def find_from_image(image_pth, prompt, bt, tt):\n",
    "    text_prompt = prompt\n",
    "    bt = bt\n",
    "    tt = tt\n",
    "    imgsrc, img = load_image(image_pth)\n",
    "    boxes, logits, phrases = predict(\n",
    "        model=model, image=img, caption=text_prompt, box_threshold=bt, text_threshold=tt, device=\"cpu\"\n",
    "    )\n",
    "    annotated_image = annotate(imgsrc, boxes, logits, phrases)\n",
    "    # cv2.imwrite(f\"results/{os.path.basename(image_pth)}.png\", annotated_image)\n",
    "    return boxes.tolist(), logits.tolist(), phrases"
   ]
  },
  {
   "cell_type": "code",
   "execution_count": null,
   "id": "755db5b7-b862-4f45-95d8-50370ffb6955",
   "metadata": {},
   "outputs": [],
   "source": [
    "model = load_model(CONFIG_PATH, WEIGHTS_PATH)\n",
    "for folder in tqdm(os.listdir(FISH_FOLDER)):\n",
    "    fish_folder_ = os.path.join(FISH_FOLDER, folder)\n",
    "    try:\n",
    "        for fish in os.listdir(fish_folder_):\n",
    "            if fish.endswith((\".jpeg\", \".png\", \".JPG\", \".jpg\")):\n",
    "                o_fpath = os.path.join(fish_folder_, fish)\n",
    "                cv_image = cv2.imread(o_fpath)\n",
    "                _cls = str(os.path.basename(fish_folder_))\n",
    "               \n",
    "                boxes, _conf, _  = find_from_image(image_pth=o_fpath, prompt=\"fish\", bt=0.5, tt=0.22)\n",
    "                print(boxes, _conf, _cls)\n",
    "                if len(boxes) > 0:\n",
    "                    _label = o_fpath\n",
    "                    label_z = Label(boxes, _cls, cv_image, _label).create_label()\n",
    "                    json_filename = os.path.splitext(_label)[0] + \".json\"\n",
    "                    with open(json_filename, \"w\") as json_output:\n",
    "                        json_output.write(json.dumps(label_z, indent=2))\n",
    "                else:\n",
    "                    continue\n",
    "    except Exception as _ayy:\n",
    "        print(f\"exception: {_ayy}\")\n",
    "        continue\n",
    "        "
   ]
  }
 ],
 "metadata": {
  "kernelspec": {
   "display_name": "Python 3 (ipykernel)",
   "language": "python",
   "name": "python3"
  },
  "language_info": {
   "codemirror_mode": {
    "name": "ipython",
    "version": 3
   },
   "file_extension": ".py",
   "mimetype": "text/x-python",
   "name": "python",
   "nbconvert_exporter": "python",
   "pygments_lexer": "ipython3",
   "version": "3.12.4"
  }
 },
 "nbformat": 4,
 "nbformat_minor": 5
}
