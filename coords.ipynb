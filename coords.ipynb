{
 "cells": [
  {
   "cell_type": "code",
   "execution_count": 2,
   "id": "e1617312-7db6-49a2-9a43-f20966b69116",
   "metadata": {},
   "outputs": [],
   "source": [
    "import numpy as np \n",
    "import torch\n",
    "import json\n",
    "import os"
   ]
  },
  {
   "cell_type": "code",
   "execution_count": 12,
   "id": "e55937f3-47bd-4ab2-83b5-84168f07bd4c",
   "metadata": {},
   "outputs": [
    {
     "data": {
      "text/plain": [
       "array([794.39856201, 404.06690709, 818.31178039, 434.68517192])"
      ]
     },
     "execution_count": 12,
     "metadata": {},
     "output_type": "execute_result"
    }
   ],
   "source": [
    "xywh = np.array([0.4199766516685486, 0.38831114768981934, 0.012454801239073277, 0.02835024520754814])\n",
    "def xywh2xyxy(x, w=640, h=640, padw=0, padh=0):\n",
    "    y = x.clone() if isinstance(x, torch.Tensor) else np.copy(x)\n",
    "    y[0] = w * (x[0] - x[2] / 2) + padw  # top left x\n",
    "    y[1] = h * (x[1] - x[3] / 2) + padh  # top left y\n",
    "    y[2] = w * (x[0] + x[2] / 2) + padw  # bottom right x\n",
    "    y[3] = h * (x[1] + x[3] / 2) + padh  # bottom right y\n",
    "    return y\n",
    "xywh2xyxy(xywh, w=1920, h=1080)"
   ]
  },
  {
   "cell_type": "code",
   "execution_count": 15,
   "id": "4b23c50b-6c6b-4c82-a54f-6045e6c5bac1",
   "metadata": {},
   "outputs": [
    {
     "data": {
      "text/plain": [
       "2"
      ]
     },
     "execution_count": 15,
     "metadata": {},
     "output_type": "execute_result"
    }
   ],
   "source": [
    "a = np.array([[3,3,3,3],[1,3,4,2]])\n",
    "a.shape[0]"
   ]
  },
  {
   "cell_type": "code",
   "execution_count": 17,
   "id": "238f566d-108b-4779-8174-621b266cf27d",
   "metadata": {},
   "outputs": [
    {
     "data": {
      "text/plain": [
       "'coords: 1 , cls penis, w,h (4, 2)'"
      ]
     },
     "execution_count": 17,
     "metadata": {},
     "output_type": "execute_result"
    }
   ],
   "source": [
    "from annotation import Label\n",
    "Label(1, \"penis\", np.array([[3,3,3,3],[1,3,4,2]])).__str__()"
   ]
  }
 ],
 "metadata": {
  "kernelspec": {
   "display_name": "Python 3 (ipykernel)",
   "language": "python",
   "name": "python3"
  },
  "language_info": {
   "codemirror_mode": {
    "name": "ipython",
    "version": 3
   },
   "file_extension": ".py",
   "mimetype": "text/x-python",
   "name": "python",
   "nbconvert_exporter": "python",
   "pygments_lexer": "ipython3",
   "version": "3.10.12"
  }
 },
 "nbformat": 4,
 "nbformat_minor": 5
}
